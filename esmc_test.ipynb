{
 "cells": [
  {
   "cell_type": "code",
   "execution_count": 22,
   "metadata": {},
   "outputs": [],
   "source": [
    "from esm.models.esmc import ESMC\n",
    "from esm.sdk.api import ESMProtein, LogitsConfig\n",
    "import torch"
   ]
  },
  {
   "cell_type": "code",
   "execution_count": 12,
   "metadata": {},
   "outputs": [],
   "source": [
    "protein_sequence = \"MGQPGNGSAFLLAPNGSHAPDHDVTQERDEVWVVGMGIVMSLIVLAIVFGNVLVITAIAKFERLQTVTNYFITSLACADLVMGLAVVPFGAAHILMKMWTFGNFWCEFWTSIDVLCVTASIETLCVIAVDRYFAITSPFKYQSLLTKNKARVIILMVWIVSGLTSFLPIQMHWYRATHQEAINCYANETCCDFFTNQAYAIASSIVSFYVPLVIMVFVYSRVFQEAKRQLQKIDKSEGRFHVQNLSQVEQDGRTGHGLRRSSKFCLKEHKALKTLGIIMGTFTLCWLPFFIVNIVHVIQDNLIRKEVYILLNWIGYVNSGFNPLIYCRSPDFRIAFQELLCLRRSSLKAYGNGYSSNGNTGEQSGYHVEQEKENKLLCEDLPGTEDFVGHQGTVPSDNIDSQGRNCSTNDSLL\""
   ]
  },
  {
   "cell_type": "code",
   "execution_count": 13,
   "metadata": {},
   "outputs": [
    {
     "name": "stdout",
     "output_type": "stream",
     "text": [
      "ForwardTrackData(sequence=tensor([[[-37.7603, -37.7463, -37.7816,  ..., -37.7437, -37.7768, -37.7802],\n",
      "         [-42.1356, -42.0509, -42.1101,  ..., -42.0273, -42.0702, -42.1130],\n",
      "         [-39.7645, -39.7032, -39.7317,  ..., -39.7216, -39.6800, -39.7218],\n",
      "         ...,\n",
      "         [-39.9428, -39.8964, -39.9847,  ..., -39.9400, -39.9402, -39.9605],\n",
      "         [-36.2157, -36.2523, -36.2886,  ..., -36.2580, -36.2593, -36.2999],\n",
      "         [-35.5685, -35.5536, -35.6612,  ..., -35.5273, -35.6028, -35.6262]]]), structure=None, secondary_structure=None, sasa=None, function=None) tensor([[[ 0.0043,  0.0036,  0.0008,  ...,  0.0041, -0.0008, -0.0167],\n",
      "         [ 0.0072,  0.0534,  0.0499,  ..., -0.0087, -0.0335, -0.0042],\n",
      "         [-0.0184,  0.0335,  0.0410,  ..., -0.0532, -0.0594,  0.0030],\n",
      "         ...,\n",
      "         [-0.0086,  0.0272,  0.0095,  ...,  0.0134,  0.0014,  0.0345],\n",
      "         [-0.0270, -0.0347, -0.0075,  ...,  0.0333, -0.0380,  0.0006],\n",
      "         [ 0.0048,  0.0244,  0.0096,  ..., -0.0064, -0.0550, -0.0293]]])\n"
     ]
    }
   ],
   "source": [
    "protein = ESMProtein(sequence=protein_sequence)\n",
    "client = ESMC.from_pretrained(\"esmc_300m\").to(\"cpu\")\n",
    "protein_tensor = client.encode(protein)\n",
    "logits_output = client.logits(\n",
    "    protein_tensor, LogitsConfig(sequence=True, return_embeddings=True)\n",
    ")\n",
    "print(logits_output.logits, logits_output.embeddings)"
   ]
  },
  {
   "cell_type": "code",
   "execution_count": 25,
   "metadata": {},
   "outputs": [
    {
     "data": {
      "text/plain": [
       "torch.Size([1, 960])"
      ]
     },
     "execution_count": 25,
     "metadata": {},
     "output_type": "execute_result"
    }
   ],
   "source": [
    "# take average of all amino acid sequences\n",
    "tensor = logits_output.embeddings[0]\n",
    "col_means = torch.mean(tensor, dim=0)\n",
    "tensor = col_means.unsqueeze(0)\n",
    "tensor.shape\n",
    "\n",
    "\n",
    "# save tensor\n",
    "torch.save(tensor, 'esmc_embedding')\n"
   ]
  },
  {
   "cell_type": "code",
   "execution_count": null,
   "metadata": {},
   "outputs": [],
   "source": [
    "#TODO: make this a class pipeline, process all single AA mutations through it"
   ]
  }
 ],
 "metadata": {
  "kernelspec": {
   "display_name": ".env",
   "language": "python",
   "name": "python3"
  },
  "language_info": {
   "codemirror_mode": {
    "name": "ipython",
    "version": 3
   },
   "file_extension": ".py",
   "mimetype": "text/x-python",
   "name": "python",
   "nbconvert_exporter": "python",
   "pygments_lexer": "ipython3",
   "version": "3.10.14"
  }
 },
 "nbformat": 4,
 "nbformat_minor": 2
}
